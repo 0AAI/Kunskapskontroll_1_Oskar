{
 "cells": [
  {
   "cell_type": "markdown",
   "id": "dacf74e6",
   "metadata": {},
   "source": [
    "# NumPy"
   ]
  },
  {
   "cell_type": "markdown",
   "id": "01b2bf34",
   "metadata": {},
   "source": [
    "Read the links: https://numpy.org/doc/stable/user/quickstart.html  and https://numpy.org/doc/stable/user/basics.broadcasting.html  before solving the exercises. "
   ]
  },
  {
   "cell_type": "code",
   "execution_count": 3,
   "id": "1f79e4a6",
   "metadata": {},
   "outputs": [],
   "source": [
    "import numpy as np"
   ]
  },
  {
   "cell_type": "markdown",
   "id": "7dae6889",
   "metadata": {},
   "source": [
    "### Print out the dimension (number of axes), shape, size and the datatype of the matrix A."
   ]
  },
  {
   "cell_type": "code",
   "execution_count": 4,
   "id": "7b3678cd",
   "metadata": {},
   "outputs": [],
   "source": [
    "A = np.arange(1, 16).reshape(3,5)"
   ]
  },
  {
   "cell_type": "code",
   "execution_count": 5,
   "id": "31d39235",
   "metadata": {},
   "outputs": [
    {
     "name": "stdout",
     "output_type": "stream",
     "text": [
      "[[ 1  2  3  4  5]\n",
      " [ 6  7  8  9 10]\n",
      " [11 12 13 14 15]]\n",
      "\n",
      "Antal dimension: 2\n",
      "Size: 15\n",
      "Shape: (3, 5)\n",
      "Datatype: int32\n"
     ]
    }
   ],
   "source": [
    "print(A) # total matrix\n",
    "print() # tom rad\n",
    "print(\"Antal dimension:\",A.ndim) # Dimension \n",
    "print(\"Size:\",A.size) # Size\n",
    "print(\"Shape:\",A.shape) # Shape\n",
    "print(\"Datatype:\",A.dtype) # Datatyp"
   ]
  },
  {
   "cell_type": "markdown",
   "id": "e56d2a96",
   "metadata": {},
   "source": [
    "### Do the following computations on the matrices B and C: \n",
    "* Elementwise subtraction. \n",
    "* Elementwise multiplication. \n",
    "* Matrix multiplication (by default you should use the @ operator)."
   ]
  },
  {
   "cell_type": "code",
   "execution_count": 6,
   "id": "a7053fbb",
   "metadata": {},
   "outputs": [
    {
     "name": "stdout",
     "output_type": "stream",
     "text": [
      "[[1 2 3]\n",
      " [4 5 6]\n",
      " [7 8 9]]\n",
      "\n",
      "[[2. 2. 2.]\n",
      " [2. 2. 2.]\n",
      " [2. 2. 2.]]\n"
     ]
    }
   ],
   "source": [
    "B = np.arange(1, 10).reshape(3, 3)\n",
    "C = np.ones((3, 3))*2\n",
    "\n",
    "print(B)\n",
    "print()\n",
    "print(C)"
   ]
  },
  {
   "cell_type": "code",
   "execution_count": 7,
   "id": "3cd794ae",
   "metadata": {},
   "outputs": [
    {
     "name": "stdout",
     "output_type": "stream",
     "text": [
      "Elementwise subtraction\n",
      "[[-1.  0.  1.]\n",
      " [ 2.  3.  4.]\n",
      " [ 5.  6.  7.]]\n",
      "\n",
      "Elementwise multiplication\n",
      "[[ 2.  4.  6.]\n",
      " [ 8. 10. 12.]\n",
      " [14. 16. 18.]]\n",
      "\n",
      "Matrix multiplication\n",
      "[[12. 12. 12.]\n",
      " [30. 30. 30.]\n",
      " [48. 48. 48.]]\n"
     ]
    }
   ],
   "source": [
    "print(\"Elementwise subtraction\")\n",
    "print(B-C) # Elementwise subtraction\n",
    "print()\n",
    "print(\"Elementwise multiplication\")\n",
    "print(B*C) # Elementwise multiplication\n",
    "print()\n",
    "print(\"Matrix multiplication\")\n",
    "print(B@C) # Matrix multiplication"
   ]
  },
  {
   "cell_type": "markdown",
   "id": "96030d53",
   "metadata": {},
   "source": [
    "### Do the following calculations on the matrix:\n",
    "* Exponentiate each number elementwise (use the np.exp function).\n",
    "\n",
    "* Calculate the minimum value in the whole matrix. \n",
    "* Calculcate the minimum value in each row. \n",
    "* Calculcate the minimum value in each column. \n",
    "\n",
    "\n",
    "* Find the index value for the minimum value in the whole matrix (hint: use np.argmin).\n",
    "* Find the index value for the minimum value in each row (hint: use np.argmin).\n",
    "\n",
    "\n",
    "* Calculate the sum for all elements.\n",
    "* Calculate the mean for each column. \n",
    "* Calculate the median for each column. "
   ]
  },
  {
   "cell_type": "code",
   "execution_count": 8,
   "id": "f8a9166b",
   "metadata": {},
   "outputs": [
    {
     "name": "stdout",
     "output_type": "stream",
     "text": [
      "[[1 2 3]\n",
      " [4 5 6]\n",
      " [7 8 9]]\n"
     ]
    }
   ],
   "source": [
    "B = np.arange(1, 10).reshape(3, 3)\n",
    "print(B)"
   ]
  },
  {
   "cell_type": "code",
   "execution_count": 9,
   "id": "f03f24f7",
   "metadata": {},
   "outputs": [
    {
     "name": "stdout",
     "output_type": "stream",
     "text": [
      "Exponentiate:\n",
      "[[2.71828183e+00 7.38905610e+00 2.00855369e+01]\n",
      " [5.45981500e+01 1.48413159e+02 4.03428793e+02]\n",
      " [1.09663316e+03 2.98095799e+03 8.10308393e+03]]\n",
      "\n",
      "Minsta siffran i hela matrisen:\n",
      "1\n",
      "\n",
      "Minmum i varje rad:\n",
      "[1 4 7]\n",
      "\n",
      "Minimum i varje kolumn:\n",
      "[1 2 3]\n",
      "\n",
      "Index värdet för minsta siffran i hela matrisen:\n",
      "0\n",
      "\n",
      "Index värdet för minsta siffrorna i varje rad:\n",
      "[0 0 0]\n",
      "\n",
      "Summan för alla element:\n",
      "45\n",
      "\n",
      "Mean: \n",
      "[2. 5. 8.]\n",
      "\n",
      "Median:\n",
      "[2. 5. 8.]\n",
      "\n"
     ]
    }
   ],
   "source": [
    "exponentiate_B = np.exp(B) \n",
    "print(\"Exponentiate:\")\n",
    "print(exponentiate_B)\n",
    "print()\n",
    "\n",
    "print(\"Minsta siffran i hela matrisen:\")\n",
    "min_value = np.min(B)\n",
    "print(min_value)\n",
    "print()\n",
    "\n",
    "print(\"Minmum i varje rad:\")\n",
    "min_value_row = np.min(B, axis=1)\n",
    "print(min_value_row)\n",
    "print()\n",
    "\n",
    "min_value_column = np.min(B, axis=0)\n",
    "print(\"Minimum i varje kolumn:\")\n",
    "print(min_value_column)\n",
    "print()\n",
    "\n",
    "print(\"Index värdet för minsta siffran i hela matrisen:\")\n",
    "index_min_value = np.argmin(B)\n",
    "print(index_min_value)\n",
    "print()\n",
    "\n",
    "print(\"Index värdet för minsta siffrorna i varje rad:\")\n",
    "index_min_values_row = np.argmin(B, axis=1)\n",
    "print(index_min_values_row)\n",
    "print()\n",
    "\n",
    "print(\"Summan för alla element:\")\n",
    "sum_all_elements = np.sum(B)\n",
    "print(sum_all_elements)\n",
    "print()\n",
    "\n",
    "print(\"Mean: \")\n",
    "mean_column = np.mean(B, axis=1)\n",
    "print(mean_column)\n",
    "print()\n",
    "\n",
    "print(\"Median:\")\n",
    "median_column = np.median(B, axis =1)\n",
    "print(median_column)\n",
    "print()\n",
    "\n"
   ]
  },
  {
   "cell_type": "markdown",
   "id": "541eb7ba",
   "metadata": {},
   "source": [
    "### What does it mean when you provide fewer indices than axes when slicing? See example below."
   ]
  },
  {
   "cell_type": "code",
   "execution_count": 10,
   "id": "9c8abf56",
   "metadata": {},
   "outputs": [
    {
     "name": "stdout",
     "output_type": "stream",
     "text": [
      "[[ 1  2  3  4  5]\n",
      " [ 6  7  8  9 10]\n",
      " [11 12 13 14 15]]\n"
     ]
    }
   ],
   "source": [
    "print(A)"
   ]
  },
  {
   "cell_type": "code",
   "execution_count": 11,
   "id": "69415f7b",
   "metadata": {},
   "outputs": [
    {
     "data": {
      "text/plain": [
       "array([ 6,  7,  8,  9, 10])"
      ]
     },
     "execution_count": 11,
     "metadata": {},
     "output_type": "execute_result"
    }
   ],
   "source": [
    "A[1]"
   ]
  },
  {
   "cell_type": "markdown",
   "id": "6c53541b",
   "metadata": {},
   "source": [
    "**Answer:**"
   ]
  },
  {
   "cell_type": "code",
   "execution_count": 12,
   "id": "de01e120",
   "metadata": {},
   "outputs": [],
   "source": [
    "# Första siffran i slicen representerar första lagret i matrisen, vilket i denna 2D-matris innebär raden. När du inte anger en ytterligare siffra i slicen, så printas hela raden ut.\n",
    "# Hade man angivit ytterligare en siffra i slicen, så hade enbart en siffra på rad och column enligt angivna siffror/slice skrivits ut, tex: A[1,2] output: 8 "
   ]
  },
  {
   "cell_type": "markdown",
   "id": "6652d0c9",
   "metadata": {},
   "source": [
    "### Iterating over multidimensional arrays is done with respect to the first axis, so in the example below we iterate trough the rows. If you would like to iterate through the array *elementwise*, how would you do that?"
   ]
  },
  {
   "cell_type": "code",
   "execution_count": 13,
   "id": "9459864f",
   "metadata": {},
   "outputs": [
    {
     "data": {
      "text/plain": [
       "array([[ 1,  2,  3,  4,  5],\n",
       "       [ 6,  7,  8,  9, 10],\n",
       "       [11, 12, 13, 14, 15]])"
      ]
     },
     "execution_count": 13,
     "metadata": {},
     "output_type": "execute_result"
    }
   ],
   "source": [
    "A"
   ]
  },
  {
   "cell_type": "code",
   "execution_count": 14,
   "id": "a671bb5a",
   "metadata": {},
   "outputs": [
    {
     "name": "stdout",
     "output_type": "stream",
     "text": [
      "[1 2 3 4 5]\n",
      "[ 6  7  8  9 10]\n",
      "[11 12 13 14 15]\n"
     ]
    }
   ],
   "source": [
    "for i in A:\n",
    "    print(i)"
   ]
  },
  {
   "cell_type": "code",
   "execution_count": 15,
   "id": "f4e443a0",
   "metadata": {},
   "outputs": [
    {
     "name": "stdout",
     "output_type": "stream",
     "text": [
      "1\n",
      "2\n",
      "3\n",
      "4\n",
      "5\n",
      "6\n",
      "7\n",
      "8\n",
      "9\n",
      "10\n",
      "11\n",
      "12\n",
      "13\n",
      "14\n",
      "15\n"
     ]
    }
   ],
   "source": [
    "for f in np.nditer(A):\n",
    "    print(f)"
   ]
  },
  {
   "cell_type": "markdown",
   "id": "608a2583",
   "metadata": {},
   "source": [
    "### Explain what the code below does. More specifically, b has three axes - what does this mean? "
   ]
  },
  {
   "cell_type": "code",
   "execution_count": 16,
   "id": "f8f9b26f",
   "metadata": {},
   "outputs": [
    {
     "name": "stdout",
     "output_type": "stream",
     "text": [
      "[ 0  1  2  3  4  5  6  7  8  9 10 11 12 13 14 15 16 17 18 19 20 21 22 23\n",
      " 24 25 26 27 28 29]\n",
      "\n",
      "[[[ 0  1  2  3  4]\n",
      "  [ 5  6  7  8  9]\n",
      "  [10 11 12 13 14]]\n",
      "\n",
      " [[15 16 17 18 19]\n",
      "  [20 21 22 23 24]\n",
      "  [25 26 27 28 29]]]\n"
     ]
    }
   ],
   "source": [
    "a = np.arange(30)\n",
    "b = a.reshape((2, 3,-1 ))\n",
    "print(a)\n",
    "print()\n",
    "\n",
    "print(b)"
   ]
  },
  {
   "cell_type": "code",
   "execution_count": 17,
   "id": "863a45df",
   "metadata": {},
   "outputs": [],
   "source": [
    "# Variabeln a skapas, med Numpy 30 siffror, från 0-29.\n",
    "# Variabeln b skapas, som en en omformning av a variabeln, har istället formen 2,3,-1: 2 står för antal matriser, 3 står för antal rader i varje matris och -1 står i detta fall för 5 siffror. \n",
    "# Dom tre axlarna består av antal matriser, antal rader i varje matris, samt antal siffror i varje rad. Om man inte vet sista lagret/antal siffror i varje rad, \n",
    "# får man fram det automatiskt av Numpy genom att ange -1.      "
   ]
  },
  {
   "cell_type": "markdown",
   "id": "ab5933d5",
   "metadata": {},
   "source": [
    "### Broadcasting\n",
    "**Read the following link about broadcasting: https://numpy.org/doc/stable/user/basics.broadcasting.html#basics-broadcasting**"
   ]
  },
  {
   "cell_type": "markdown",
   "id": "039805ba",
   "metadata": {},
   "source": [
    "# Remark on Broadcasting when doing Linear Algebra calculations in Python. "
   ]
  },
  {
   "cell_type": "markdown",
   "id": "c4bcc147",
   "metadata": {},
   "source": [
    "### From the mathematical rules of matrix addition, the operation below (m1 + m2) does not make sense. The reason is that matrix addition requires two matrices of the same size. In Python however, it works due to broadcasting rules in NumPy. So you must be careful when doing Linear Algebra calculations in Python since they do not follow the \"mathematical rules\". This can however easily be handled by doing some simple programming, for example validating that two matrices have the same shape is easy if you for instance want to add two matrices. "
   ]
  },
  {
   "cell_type": "code",
   "execution_count": 18,
   "id": "1fd46778",
   "metadata": {},
   "outputs": [
    {
     "name": "stdout",
     "output_type": "stream",
     "text": [
      "[[2 3]\n",
      " [4 5]]\n"
     ]
    }
   ],
   "source": [
    "m1 = np.array([[1, 2], [3, 4]])\n",
    "m2 = np.array([1, 1])\n",
    "print(m1 + m2)"
   ]
  },
  {
   "cell_type": "markdown",
   "id": "047d6576",
   "metadata": {},
   "source": [
    "### The example below would also not be allowed if following the \"mathematical rules\" in Linear Algebra. But it works due to broadcasting in NumPy. "
   ]
  },
  {
   "cell_type": "code",
   "execution_count": 19,
   "id": "5e6ef2e4",
   "metadata": {},
   "outputs": [
    {
     "name": "stdout",
     "output_type": "stream",
     "text": [
      "[2 3 4]\n"
     ]
    }
   ],
   "source": [
    "v1 = np.array([1, 2, 3])\n",
    "print(v1 + 1)"
   ]
  },
  {
   "cell_type": "code",
   "execution_count": 20,
   "id": "e2cbae26",
   "metadata": {},
   "outputs": [
    {
     "name": "stdout",
     "output_type": "stream",
     "text": [
      "[[1 2]\n",
      " [3 4]]\n",
      "[2 2]\n"
     ]
    }
   ],
   "source": [
    "A = np.arange(1, 5).reshape(2,2)\n",
    "print(A)\n",
    "\n",
    "b = np.array([2, 2])\n",
    "print(b)\n"
   ]
  },
  {
   "cell_type": "markdown",
   "id": "722fd5cd",
   "metadata": {},
   "source": [
    "# Vector- and matrix algebra Exercises"
   ]
  },
  {
   "cell_type": "markdown",
   "id": "b63a3081-d976-4d9f-bfd0-a63917e79f7d",
   "metadata": {},
   "source": [
    "**Now you are going to create a function that can be reused every time you add or multiply matrices. The function is created so that we do the addition and multiplication according to the rules of vector- and matrix algebra.**\n",
    "\n",
    "**Create a function \"add_mult_matrices\" that takes two matrices as input arguments (validate that the input are of the type numpy.ndarray by using the isinstance function), a third argument that is either 'add' or 'multiply' that specifies if you want to add or multiply the matrices (validate that the third argument is either 'add' or 'multiply'). When doing matrix addition, validate that the matrices have the same size. When doing matrix multiplication, validate that the sizes conform (i.e. number of columns in the first matrix is equal to the number of rows in the second matrix).**"
   ]
  },
  {
   "cell_type": "code",
   "execution_count": 21,
   "id": "3506f977-ac0a-473f-85bc-eec9f35dc498",
   "metadata": {},
   "outputs": [
    {
     "name": "stdout",
     "output_type": "stream",
     "text": [
      "addition result:\n",
      " [[ 6  8]\n",
      " [10 12]]\n",
      "\n",
      "Multiply resultat:\n",
      " [[19 22]\n",
      " [43 50]]\n"
     ]
    }
   ],
   "source": [
    "# Funktion som tar emot två matriser och en opperation, kontrollerar att matriserna är np.ndarray, och att operationen är plus eller multiplikation. Samt att matriserna har samma form. \n",
    "# Samt gör uträkningarna matris addition och multiplikation. \n",
    "\n",
    "def add_mult_matrices(m1, m2, operation):\n",
    "    if not (m1, np.ndarray) or not isinstance(m2, np.ndarray):\n",
    "        print(\"Båda argumenten måste vara av nypen numpy.ndarray\")\n",
    "\n",
    "    if operation not in['add', 'multiply']:\n",
    "        print(\"Operationen måste vara plus eller minus\") \n",
    "\n",
    "    if operation == 'add':\n",
    "        if m1.shape != m2.shape:\n",
    "            print(\"För addition måste matriserna ha samma storlek\")\n",
    "        return m1 + m2          \n",
    "\n",
    "    elif operation == 'multiply':\n",
    "        if m1.shape != m2.shape:\n",
    "            print(\"För multiplikation måste matriserna ha samma storlek\") \n",
    "        return m1 @ m2    \n",
    "    \n",
    "# Testar funktionen \n",
    "m1 = np.array([[1,2],[3,4]])\n",
    "m2 = np.array([[5,6],[7,8]])\n",
    "\n",
    "addition_result = add_mult_matrices( m1 ,m2, 'add')\n",
    "print(\"addition result:\\n\", addition_result)\n",
    "\n",
    "print()\n",
    "\n",
    "multiply_result = add_mult_matrices(m1 ,m2, 'multiply')\n",
    "print(\"Multiply resultat:\\n\", multiply_result)"
   ]
  },
  {
   "cell_type": "markdown",
   "id": "8dad82d0-2359-4dff-8f5b-a57d3e34103c",
   "metadata": {},
   "source": [
    "### Solve all the exercises in chapter 10.1 in the book \"Matematik för yrkeshögskolan\". "
   ]
  },
  {
   "cell_type": "code",
   "execution_count": 22,
   "id": "89df88af-3668-4d98-a0a4-e6d92eea0f89",
   "metadata": {},
   "outputs": [
    {
     "name": "stdout",
     "output_type": "stream",
     "text": [
      "a) 1\n",
      "b) [20 15]\n",
      "c) [12  9]\n",
      "d) [32 24]\n",
      "e) [32 24]\n",
      "f) [12  9]\n",
      "g) [4 3]\n",
      "i) 5.0\n"
     ]
    }
   ],
   "source": [
    "x = np.array([4,3])\n",
    "\n",
    "# a) 1x2 dimensioner. \n",
    "dimension = x.ndim \n",
    "print(\"a)\",dimension)\n",
    "\n",
    "# b) \n",
    "b = 5 * x\n",
    "print(\"b)\",b)\n",
    "\n",
    "# c) \n",
    "c = 3*x\n",
    "print(\"c)\",c)\n",
    "\n",
    "# d) \n",
    "d = (5*x)+(3*x)\n",
    "print(\"d)\",d)\n",
    "\n",
    "# e)\n",
    "e = 8*x\n",
    "print(\"e)\",e)\n",
    "\n",
    "# f)\n",
    "f = 4*x-x\n",
    "print(\"f)\",f)\n",
    "\n",
    "# g) Blir en kolumnvektor istället för en radvektor, 2x1 dimensioner.\n",
    "g = x.T\n",
    "print(\"g)\",g)\n",
    "\n",
    "# h) ej definerat \n",
    "\n",
    "# i) Normen av vektorn x\n",
    "i = np.linalg.norm(x)\n",
    "print(\"i)\",i)\n"
   ]
  },
  {
   "cell_type": "markdown",
   "id": "75c98984-1f88-4df1-b850-d2466de444a5",
   "metadata": {},
   "source": [
    "### Solve all the exercises, except 10.2.4, in chapter 10.2 in the book \"Matematik för yrkeshögskolan\". "
   ]
  },
  {
   "cell_type": "code",
   "execution_count": 23,
   "id": "65371610-16e1-48b2-b7fb-65e49002608a",
   "metadata": {},
   "outputs": [
    {
     "name": "stdout",
     "output_type": "stream",
     "text": [
      "a):\n",
      " [[ 4  2 -2]\n",
      " [ 2 -2  2]]\n",
      "b):\n",
      " [[ 0 -4  3]\n",
      " [ 0 -2 -4]]\n",
      "c): Matriserna behöver ha samma form\n",
      "d):\n",
      " [[3 2]\n",
      " [2 3]]\n",
      "d):\n",
      " [[ 9 12]\n",
      " [12  9]]\n",
      "f):\n",
      " [[-4 -4]\n",
      " [-4 -4]]\n",
      "g): Matriserna behöver ha samma form\n",
      "h): Matriserna behöver ha samma form\n",
      "i):\n",
      " [[11 10]\n",
      " [10 11]]\n",
      "j):\n",
      " [[  8 -10  -3]\n",
      " [ 10  -8   0]]\n",
      "k):\n",
      " [[1 2]\n",
      " [2 1]]\n",
      "i):\n",
      " [[5 2]\n",
      " [7 4]]\n"
     ]
    }
   ],
   "source": [
    "# Uppgift 10.2.1\n",
    "A = np.array([[2,1,-1],[1,-1,1]])\n",
    "B = np.array([[4,-2,1],[2,-4,-2]])\n",
    "C = np.array([[1,2],[2,1]])\n",
    "D = np.array([[3,4],[4,3]])\n",
    "E = np.array([1,2])\n",
    "I = np.array([[1,0],[0,1]])\n",
    "\n",
    "# a)\n",
    "a = 2*A\n",
    "print(\"a):\\n\",a)\n",
    "\n",
    "# b) \n",
    "b = (B-2*A)\n",
    "print(\"b):\\n\",b)\n",
    "\n",
    "# c) Jämför formen mellan C och E matriserna. \n",
    "if C.shape != E.shape:\n",
    "    print(\"c): Matriserna behöver ha samma form\")\n",
    "\n",
    "# d)\n",
    "d = (2*D)-(3*C)\n",
    "print(\"d):\\n\",d)\n",
    "\n",
    "# e) \n",
    "e = D + 2*D\n",
    "print(\"d):\\n\",e)    \n",
    "\n",
    "# f) \n",
    "f = 2*C -2*D\n",
    "print(\"f):\\n\",f)    \n",
    "\n",
    "# g) transformerar om A matrisen med hjälp av A.T. jämför sedan formen med B. \n",
    "if A.T.shape != B.shape:\n",
    "    print(\"g): Matriserna behöver ha samma form\")\n",
    "\n",
    "# h)  \n",
    "if A.shape != C.shape:\n",
    "    print(\"h): Matriserna behöver ha samma form\") \n",
    "\n",
    "# i) \n",
    "i = C @ D\n",
    "print(\"i):\\n\",i)  \n",
    "\n",
    "# j) \n",
    "j = C @ B\n",
    "print(\"j):\\n\",j)  \n",
    "\n",
    "# k) \n",
    "k = C @ I\n",
    "print(\"k):\\n\",k) \n",
    "\n",
    "# I) \n",
    "i = A @ B.T\n",
    "print(\"i):\\n\",i) \n"
   ]
  },
  {
   "cell_type": "code",
   "execution_count": 37,
   "id": "74356b6d",
   "metadata": {},
   "outputs": [
    {
     "name": "stdout",
     "output_type": "stream",
     "text": [
      "A @ A^T:\n",
      " [[29 26]\n",
      " [26 42]]\n"
     ]
    }
   ],
   "source": [
    "# Uppgift 10.2.2\n",
    "A = np.array([[2,3,4],[5,4,1]])\n",
    "\n",
    "# Transponerar om matrisen A. \n",
    "A_transposed = A.T\n",
    "\n",
    "utfall = A @ A_transposed\n",
    "\n",
    "print(\"A @ A^T:\\n\",utfall)"
   ]
  },
  {
   "cell_type": "code",
   "execution_count": 49,
   "id": "0564c6c5",
   "metadata": {},
   "outputs": [
    {
     "name": "stdout",
     "output_type": "stream",
     "text": [
      "AB:\n",
      " [[ 4  7]\n",
      " [ 8 14]]\n",
      "AC:\n",
      " [[ 4  7]\n",
      " [ 8 14]]\n",
      "B != C, B är ej lika med C\n"
     ]
    }
   ],
   "source": [
    "# Uppgift 10.2.3\n",
    "A = np.array([[1,2],[2,4]])\n",
    "B = np.array([[2,1],[1,3]])\n",
    "C = np.array([[4,3],[0,2]])\n",
    "\n",
    "AB = A @ B\n",
    "print(\"AB:\\n\",AB)\n",
    "\n",
    "AC = A @ C\n",
    "print(\"AC:\\n\",AC)\n",
    "\n",
    "if not np.array_equal(B, C):\n",
    "     print(\"B != C, B är ej lika med C\")\n"
   ]
  },
  {
   "cell_type": "markdown",
   "id": "6a4a524f",
   "metadata": {},
   "source": [
    "### Copies and Views\n",
    "Read the following link: https://numpy.org/doc/stable/user/basics.copies.html"
   ]
  },
  {
   "cell_type": "markdown",
   "id": "6cbbeaf7",
   "metadata": {},
   "source": [
    "**Basic indexing creates a view, How can you check if v1 and v2 is a view or copy? If you change the last element in v2 to 123, will the last element in v1 be changed? Why?**"
   ]
  },
  {
   "cell_type": "code",
   "execution_count": 24,
   "id": "5b9ef4df",
   "metadata": {},
   "outputs": [
    {
     "name": "stdout",
     "output_type": "stream",
     "text": [
      "[0 1 2 3]\n",
      "[2 3]\n"
     ]
    }
   ],
   "source": [
    "v1 = np.arange(4)\n",
    "v2 = v1[-2:]\n",
    "print(v1)\n",
    "print(v2)"
   ]
  },
  {
   "cell_type": "code",
   "execution_count": 25,
   "id": "d2440489",
   "metadata": {},
   "outputs": [
    {
     "name": "stdout",
     "output_type": "stream",
     "text": [
      "None\n",
      "[0 1 2 3]\n"
     ]
    }
   ],
   "source": [
    "# The base attribute of a view returns the original array while it returns None for a copy.\n",
    "print(v1.base)\n",
    "print(v2.base)"
   ]
  },
  {
   "cell_type": "code",
   "execution_count": 26,
   "id": "c8752807",
   "metadata": {},
   "outputs": [
    {
     "name": "stdout",
     "output_type": "stream",
     "text": [
      "[  0   1   2 123]\n",
      "[  2 123]\n"
     ]
    }
   ],
   "source": [
    "# The last element in v1 will be changed aswell since v2 is a view, meaning they share the same data buffer.\n",
    "v2[-1] = 123\n",
    "print(v1)\n",
    "print(v2)"
   ]
  },
  {
   "cell_type": "code",
   "execution_count": 27,
   "id": "3dd68221",
   "metadata": {},
   "outputs": [
    {
     "name": "stdout",
     "output_type": "stream",
     "text": [
      "True\n"
     ]
    }
   ],
   "source": [
    "# Med metoden np.may_share_memory() kan du kontrollera de är en view eller kopia, om true, delar de dataplats/view. Om False är de oberoende, v2 är då en kopia av v1.\n",
    "view = np.may_share_memory(v1, v2)\n",
    "print(view)\n",
    "\n",
    "# När du använder slicing i Numpy skapas en view och inte en kopia. Det betyder att ändringar i v2 påverkar v1 och vice versa eftersom de pekar på samma data i minnet. "
   ]
  }
 ],
 "metadata": {
  "kernelspec": {
   "display_name": "base",
   "language": "python",
   "name": "python3"
  },
  "language_info": {
   "codemirror_mode": {
    "name": "ipython",
    "version": 3
   },
   "file_extension": ".py",
   "mimetype": "text/x-python",
   "name": "python",
   "nbconvert_exporter": "python",
   "pygments_lexer": "ipython3",
   "version": "3.12.4"
  }
 },
 "nbformat": 4,
 "nbformat_minor": 5
}
